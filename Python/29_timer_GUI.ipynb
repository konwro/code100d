{
 "cells": [
  {
   "cell_type": "markdown",
   "metadata": {},
   "source": [
    "# Countdown timer with GUI interface"
   ]
  },
  {
   "cell_type": "markdown",
   "metadata": {},
   "source": [
    "### Tasks\n",
    "- import modules\n",
    "- create a main window GUI\n",
    "- add widgets - button, entry\n",
    "- apply event trigger\n",
    "- ref. https://www.geeksforgeeks.org/create-countdown-timer-using-python-tkinter/"
   ]
  },
  {
   "cell_type": "code",
   "execution_count": 30,
   "metadata": {},
   "outputs": [],
   "source": [
    "import time\n",
    "from tkinter import *\n",
    "from tkinter import messagebox"
   ]
  },
  {
   "cell_type": "markdown",
   "metadata": {},
   "source": [
    "create Tk window"
   ]
  },
  {
   "cell_type": "code",
   "execution_count": 31,
   "metadata": {},
   "outputs": [],
   "source": [
    "root = Tk()"
   ]
  },
  {
   "cell_type": "markdown",
   "metadata": {},
   "source": [
    "set geometry of the window"
   ]
  },
  {
   "cell_type": "code",
   "execution_count": 32,
   "metadata": {},
   "outputs": [
    {
     "data": {
      "text/plain": [
       "''"
      ]
     },
     "execution_count": 32,
     "metadata": {},
     "output_type": "execute_result"
    }
   ],
   "source": [
    "root.geometry(\"450x300\")"
   ]
  },
  {
   "cell_type": "markdown",
   "metadata": {},
   "source": [
    "set message in the title bar"
   ]
  },
  {
   "cell_type": "code",
   "execution_count": 33,
   "metadata": {},
   "outputs": [
    {
     "data": {
      "text/plain": [
       "''"
      ]
     },
     "execution_count": 33,
     "metadata": {},
     "output_type": "execute_result"
    }
   ],
   "source": [
    "root.title(\"Countdown timer\")"
   ]
  },
  {
   "cell_type": "markdown",
   "metadata": {},
   "source": [
    "declare variables"
   ]
  },
  {
   "cell_type": "code",
   "execution_count": 34,
   "metadata": {},
   "outputs": [],
   "source": [
    "hour=StringVar()\n",
    "minute=StringVar()\n",
    "second=StringVar()"
   ]
  },
  {
   "cell_type": "markdown",
   "metadata": {},
   "source": [
    "set default values"
   ]
  },
  {
   "cell_type": "code",
   "execution_count": 35,
   "metadata": {},
   "outputs": [],
   "source": [
    "hour.set(\"00\")\n",
    "minute.set(\"00\")\n",
    "second.set(\"00\")"
   ]
  },
  {
   "cell_type": "markdown",
   "metadata": {},
   "source": [
    "take input from the user using the Entry class"
   ]
  },
  {
   "cell_type": "code",
   "execution_count": 36,
   "metadata": {},
   "outputs": [],
   "source": [
    "hourEntry = Entry(root, width=3, font=(\"Arial\",18,\"\"), textvariable=hour)\n",
    "hourEntry.place(x=100,y=30)\n",
    "minuteEntry = Entry(root, width=3, font=(\"Arial\",18,\"\"), textvariable=minute)\n",
    "minuteEntry.place(x=200,y=30)\n",
    "secondEntry = Entry(root, width=3, font=(\"Arial\",18,\"\"), textvariable=second)\n",
    "secondEntry.place(x=300,y=30)"
   ]
  },
  {
   "cell_type": "markdown",
   "metadata": {},
   "source": [
    "countdown function"
   ]
  },
  {
   "cell_type": "code",
   "execution_count": 37,
   "metadata": {},
   "outputs": [],
   "source": [
    "def countdown():\n",
    "    # get user input\n",
    "    temp = int(hour.get())*3600 + int(minute.get())*60 + int(second.get())\n",
    "    \n",
    "    while temp > -1:\n",
    "        mins,secs  = divmod(temp,60)\n",
    "        hours=0\n",
    "        if mins >60:\n",
    "            hours, mins = divmod(mins,60)\n",
    "        \n",
    "        # format to 3 decimal places\n",
    "        hour.set(\"{0:3d}\".format(hours))\n",
    "        minute.set(\"{0:3d}\".format(mins))\n",
    "        second.set(\"{0:3d}\".format(secs))\n",
    "        \n",
    "        # update GUI window\n",
    "        root.update()\n",
    "        time.sleep(1)\n",
    "        \n",
    "        # time! - message box\n",
    "        if (temp==0):\n",
    "            messagebox.showinfo(\"Time Countdown\",\"Time's up!\")\n",
    "            \n",
    "        # decrement temp value\n",
    "        temp-=1"
   ]
  },
  {
   "cell_type": "markdown",
   "metadata": {},
   "source": [
    "create button widget"
   ]
  },
  {
   "cell_type": "code",
   "execution_count": 38,
   "metadata": {},
   "outputs": [],
   "source": [
    "btn = Button(root, text=\"Set Time\", bd=\"8\", command=countdown)\n",
    "btn.place(x=80,y=150)"
   ]
  },
  {
   "cell_type": "raw",
   "metadata": {},
   "source": [
    "run program infinitely until an interrupt"
   ]
  },
  {
   "cell_type": "code",
   "execution_count": null,
   "metadata": {},
   "outputs": [],
   "source": [
    "root.mainloop()"
   ]
  }
 ],
 "metadata": {
  "kernelspec": {
   "display_name": "Python 3",
   "language": "python",
   "name": "python3"
  },
  "language_info": {
   "codemirror_mode": {
    "name": "ipython",
    "version": 3
   },
   "file_extension": ".py",
   "mimetype": "text/x-python",
   "name": "python",
   "nbconvert_exporter": "python",
   "pygments_lexer": "ipython3",
   "version": "3.8.5"
  }
 },
 "nbformat": 4,
 "nbformat_minor": 4
}
